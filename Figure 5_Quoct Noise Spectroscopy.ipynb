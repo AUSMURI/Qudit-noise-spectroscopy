{
 "cells": [
  {
   "cell_type": "markdown",
   "id": "ec73b6a3",
   "metadata": {},
   "source": [
    "# $\\textbf{Antimony quoct noise spectroscopy}$"
   ]
  },
  {
   "cell_type": "markdown",
   "id": "0ac6d219",
   "metadata": {},
   "source": [
    "A qudit spectator is surrounded by XYZ type noises and affected by a sequence of spectroscopy reference pulse sequence.\n",
    "The effective Hamiltonian of such qudit in Weyl basis is as follows:\n",
    "\\begin{equation}\n",
    "H(t) =\n",
    "\\sum_{\\substack{a,b,a',b'  \\in S}}\\beta_{ab}(t) y^{a b}_{a'b'}(t) Z^{a'}  X^{b^\\prime},\n",
    "\\end{equation}\n",
    "where $\\beta_{ab}(t)$ are the unknown noise functions, $y^{a b}_{a'b'}(t)$ are the switching functions containing information about the known pulse sequence, and Z/X are the generalized Pauli operators in d-dimension. \n",
    "\n",
    "Here we simulate the generalized Weyl basis quantum noise spectroscopy for the Antimony quoct system with d=8.\n"
   ]
  },
  {
   "cell_type": "code",
   "execution_count": 1,
   "id": "1165eb06",
   "metadata": {},
   "outputs": [],
   "source": [
    "import numpy as np\n",
    "import matplotlib as m\n",
    "import matplotlib.pyplot as plt\n",
    "import time\n",
    "\n",
    "\n",
    "d=8            # 8 dimensional qudit (Antimony quoct system)\n",
    "T = 1          # Alvarez-Suter referece pulse duration\n",
    "M = 800         # Alvarez-Suter repetitions for each of three rounds\n",
    "W = 55         # Maximum sensible frequency\n",
    "hbar=1         # reduced Planck constant assumed 1\n",
    "gn = 1         # nuclear gyromagnetic ratio, assumed 1 and dimentionless, since the value has no effect on simulation result\n",
    "tB0= 1         # static magnetic field, assumed 1 and dimensionless, , since the value has no effect on simulation result\n",
    "varsnum = 3    # number of unknonw noise polyspectra\n",
    "\n",
    "\n",
    "xi = np.exp(2*np.pi*1j/d)         \n",
    "def wr(r): return  2*np.pi*r/T           \n",
    "N = int(W/wr(1))                  # The number of Alvarez-Suter expreriments in each of the three rounds\n",
    "                                  \n",
    "\n",
    "def delta(s1, s2):\n",
    "    return np.array(s1 == s2, dtype=int)\n",
    "def deltam(s1, s2, m):\n",
    "    return np.array(np.remainder(s1, m) == np.remainder(s2, m), dtype=int)    \n",
    "def fd(var):   return np.remainder(var, d)  "
   ]
  },
  {
   "cell_type": "markdown",
   "id": "c0015b24",
   "metadata": {},
   "source": [
    "## Switching Function"
   ]
  },
  {
   "cell_type": "code",
   "execution_count": 2,
   "id": "47d03023",
   "metadata": {},
   "outputs": [],
   "source": [
    "def y(i,j,a,b,m,n):\n",
    "    \n",
    "    i = np.fmod(i,d)\n",
    "    j = np.fmod(j,d)\n",
    "    a = np.fmod(a,d)\n",
    "    b = np.fmod(b,d)\n",
    "    m = np.fmod(m,d)   \n",
    "    n = np.fmod(n,d)  \n",
    "\n",
    "\n",
    "    def fdt(i,j,b,a):\n",
    "        return  1/d * (  delta(np.remainder(i-j,d),np.remainder(b,d)) * xi**(a*i)   +\\\n",
    "                         delta(np.remainder(j-i,d),np.remainder(b,d)) * xi**(a*j)  ) \n",
    "    def fijb(i,j,b,m,a):\n",
    "        return  1/d * (  xi**((a-m)*(i+b))   +   xi**(-m*i+a*j)   )\n",
    "    def f0val(a,b,m,i,j):\n",
    "        return  1/d * (  d * deltam(a,m,d) * xi**(-m*i)   -  ( xi**((a-m)*i) + xi**((a-m)*j) ) * ( xi**((a-m)*b) + 1 )  ) \n",
    "    def f12valone(m,i,j,b,a):\n",
    "        return xi**(-m*i) * fdt(i,j,b,a)\n",
    "    def f12valtwo(m,i,j,b,a):\n",
    "        return xi**(-m*j) * fdt(i,j,b,a)\n",
    "\n",
    "\n",
    "\n",
    "    f0 =  f0val(a,b,m,i,j)\n",
    "    f1 =  f12valone(m,i,j,b,a)\n",
    "    f2 =  f12valtwo(m,i,j,b,a)\n",
    "    f3 =  fijb(i,j,b,m,a)\n",
    "    f4 =  fijb(j,i,b,m,a)\n",
    "\n",
    "    \n",
    "    resultvec = np.zeros((6,) + np.broadcast(i, j, a, b, m, n).shape, dtype=complex) \n",
    "    resultvec[0, ...] = -(f1+f2) \n",
    "    resultvec[1, ...] = f0\n",
    "    resultvec[2, ...] = f1\n",
    "    resultvec[3, ...] = f2\n",
    "    resultvec[4, ...] = f3 \n",
    "    resultvec[5, ...] = f4 \n",
    "\n",
    "\n",
    "\n",
    "    fcond = np.zeros((6,) + np.broadcast(i, j, a, b, m, n).shape, dtype=complex)  # n.shape)\n",
    "    fcond[0, ...] = (n == 0)\n",
    "    fcond[1, ...] = (n == b)\n",
    "    fcond[2, ...] = (n==np.remainder(i-j,d))\n",
    "    fcond[3, ...] = (n==np.remainder(j-i,d))\n",
    "    fcond[4, ...] = (n==np.remainder(i-j+b,d))\n",
    "    fcond[5, ...] = (n==np.remainder(j-i+b,d))\n",
    "    \n",
    "\n",
    "    result = np.sum(resultvec * fcond, axis=0) \n",
    "\n",
    "    return result        \n",
    "\n",
    "\n",
    "i = j = a = b = m = n =  np.arange(d) \n",
    "I0, J0, A0, B0, M0, N0 = np.meshgrid(i, j, a, b, m, n, sparse=True, indexing='ij')\n",
    "yvec = y(I0, J0, A0, B0, M0, N0)\n",
    "del i,j,a,b,m,n,I0, J0, A0, B0, M0, N0"
   ]
  },
  {
   "cell_type": "markdown",
   "id": "31291c3f",
   "metadata": {},
   "source": [
    "## Random pulse sequences "
   ]
  },
  {
   "cell_type": "code",
   "execution_count": null,
   "id": "40fe29a5",
   "metadata": {},
   "outputs": [],
   "source": [
    "import random\n",
    "count = 0\n",
    "while count ==0:\n",
    "    \n",
    "    IJ = np.zeros([d])\n",
    "    IJ = random.sample(range(d),d)       \n",
    "   \n",
    "    def f(a,b,a1,b1,w,r,T,pm):\n",
    "        result =   -(1j)/((-1)**(pm)*w) * sum(y(IJ[fd(i)],IJ[fd(i+1)],a,b,a1,b1) \\\n",
    "                                              *(exp( (1j)* ((-1)**(pm)*w) *(i+1)*T/(d* (r+1) ) )  -   \\\n",
    "                                                exp( (1j)* ((-1)**(pm)*w) * i   *T/(d* (r+1) ) )      )\n",
    "                                          for i in range(d))\n",
    "        return result  \n",
    "\n",
    "    for a in range(d):\n",
    "         for a1 in range(d):\n",
    "            for b1 in range(d):\n",
    "                 for k in range(N):\n",
    "                        for r in range(N):\n",
    "                                if  abs(f(a,0,a1,b1,(k+1)*wr(1),r,T, 0)) > 0.001 or \\\n",
    "                                    abs(f(a,0,a1,b1,(k+1)*wr(1),r,T, 1)) > 0.001:\n",
    "                                            count = count + 1\n",
    "                                            print(a,a1,b1,r,k, f(a,0,a1,b1,(k+1)*wr(1),r,T, 0), f(a,0,a1,b1,(k+1)*wr(1),r,T, 1))\n",
    "del count,a,a1,b1,k,r\n",
    "print(IJ)\n",
    "# [1, 6, 7, 5, 4, 3, 0, 2] \n",
    "# [7, 6, 2, 0, 1, 5, 4, 3]\n",
    "#[7, 2, 0, 6, 4, 3, 1, 5]"
   ]
  },
  {
   "cell_type": "markdown",
   "id": "21c5e4b3",
   "metadata": {},
   "source": [
    "## Chosen pulse sequequence"
   ]
  },
  {
   "cell_type": "code",
   "execution_count": 3,
   "id": "dd82817a",
   "metadata": {},
   "outputs": [],
   "source": [
    "IJ = np.array([0, 4, 5, 3, 6, 1, 7, 2])"
   ]
  },
  {
   "cell_type": "markdown",
   "id": "7da2191a",
   "metadata": {},
   "source": [
    "## Filter function\n",
    "\n",
    "The following f-function, when vectorized, corresponds to fVec found by einsum\n",
    "\n",
    "def f(a,b,a1,b1,k,r,pm):  \n",
    "\n",
    "         w = (-1)**(pm) *  (k+1)*wr(1)         \n",
    "         return     sum( -(1j)/w  *  yvec0[IJ[fd(i)]][IJ[fd(i+1)]][a][b][a1][b1] *\\\n",
    "                                      (np.exp( (1j)* w *fd(i+1)*T/(d* (r+1) ) )  -   \\\n",
    "                                       np.exp( (1j)* w * fd(i)   *T/(d* (r+1) ) )      )\n",
    "                        for i in range(d))   \n",
    "                        \n",
    "pm corresponds to negative \\omega (w)\n",
    " \n",
    "#### Variables' indices in einsum\n",
    "   (i,a,b,a1,b1,k,r,pm) => (i,a,b,c, d, k,r,p)"
   ]
  },
  {
   "cell_type": "code",
   "execution_count": 4,
   "id": "6a43e848",
   "metadata": {},
   "outputs": [],
   "source": [
    "def expterm(i,k,r,pm): \n",
    "    w = (-1)**(pm) * (k+1)*wr(1)\n",
    "    return       np.exp(   (1j)* w * fd(i+1)* T/(d* (r+1) ) )  -    np.exp( (1j)* w * fd(i)   *T/(d* (r+1) ) ) \n",
    "\n",
    "i =  np.arange(d)\n",
    "k = np.arange(N)\n",
    "r =  np.arange(N)\n",
    "pm = np.arange(2)\n",
    "I0, K, R, PM = np.meshgrid(i,k, r, pm, sparse=True, indexing='ij')\n",
    "exptermVec = expterm(I0, K, R, PM) \n",
    "del i,k,r,pm,I0,K,R,PM\n",
    "##################################################################\n",
    "def wterm(k,pm): \n",
    "    w = (-1)**(pm) * (k+1)*wr(1)\n",
    "    return      -(1j)/w \n",
    "\n",
    "k =  np.arange(N)\n",
    "pm = np.arange(2)\n",
    "K, PM = np.meshgrid(k, pm, sparse=True, indexing='ij')\n",
    "wtermVec = wterm(K, PM) \n",
    "del k,pm,K,PM\n",
    "##################################################################\n",
    "i = np.arange(d)\n",
    "yvec01 = yvec[IJ[fd(i)],IJ[fd(i+1)]]\n",
    "del i\n",
    "###################################################################\n",
    "fvec = np.einsum('kp,iabcd,ikrp -> abcdkrp', wtermVec,yvec01,exptermVec)"
   ]
  },
  {
   "cell_type": "markdown",
   "id": "e1a34ac6",
   "metadata": {},
   "source": [
    "The function $\\tilde{\\beta}_{iab}^{pqq'}$ coded as \"b1f\" includes the intrinsic parameters of the Antimony quoct Hamiltonian\n",
    "\n",
    "$\\sum\\limits_{pqq'\\in S} \\tilde{\\beta}^{pqq'}_{iab}$ =  b1f(iab) $→$ b1Vec$[i][a][b]$\n"
   ]
  },
  {
   "cell_type": "code",
   "execution_count": 5,
   "id": "ba5decae",
   "metadata": {},
   "outputs": [],
   "source": [
    "Itot = (d-1)/2\n",
    "def Iz(p):\n",
    "    return        hbar  * (Itot-p)\n",
    "def Ix(p,q):\n",
    "    return        hbar/2* (deltam(p,q+1,d) + deltam(p+1,q,d) )*  np.sqrt( (Itot+1)*(p+q+1)-(p+1)*(q+1)) \n",
    "def Iy(p,q):\n",
    "    return     1j*hbar/2* (deltam(p,q+1,d) - deltam(p+1,q,d) )*  np.sqrt( (Itot+1)*(p+q+1)-(p+1)*(q+1)) "
   ]
  },
  {
   "cell_type": "code",
   "execution_count": 6,
   "id": "046dd62e",
   "metadata": {},
   "outputs": [],
   "source": [
    "def tbeta(i,p,q,q1,a,b):\n",
    "    \n",
    "    conditions = [i == 0, i == 1, i == 2]\n",
    "    \n",
    "    choices = xi**(-a*p)*  deltam(b,0,d)*    1/(2*d**3) *  Iz(p) ,\\\n",
    "              xi**(-a*p)*  deltam(p-q,b,d)*  1/d *         Ix(p,q)*Ix(q,q1) ,\\\n",
    "              xi**(-a*p)*  deltam(b,0,d)*    1/(d**3) *    Iz(p)     * gn * tB0 \n",
    "    \n",
    "    default = np.nan\n",
    "    \n",
    "    result = np.select(conditions, choices, default=default)\n",
    "    \n",
    "    return result"
   ]
  },
  {
   "cell_type": "code",
   "execution_count": 7,
   "id": "618161e8",
   "metadata": {},
   "outputs": [],
   "source": [
    "def b1f(i,a,b):\n",
    "      return  sum(tbeta(i,p,q,q1,a,b)\\\n",
    "                 for p in range(d)  for q in range(d)  for q1 in range(d)  )\n",
    "\n",
    "a = b =  np.arange(d)\n",
    "i = np.arange(3)\n",
    "I0, A, B = np.meshgrid(i, a, b, sparse=True, indexing='ij')\n",
    "b1Vec0 = np.array(b1f(I0, A, B))\n",
    "b1Vec =  b1Vec0.astype(np.complex128)\n",
    "del i, a, b, I0, A, B"
   ]
  },
  {
   "cell_type": "markdown",
   "id": "7a851db2",
   "metadata": {},
   "source": [
    "## Fixed indices for observable and initial density matrix\n",
    "\n",
    "We assume the measurable operator $\\hat{O}=\\{O_{mn}\\}_{m,n \\in {0,...,d}}$ to possess only one nonzero term $O_{mn}$ for each required round of measrement. We also assume that the initial density matrix of the quoct as $\\hat{\\rho}=\\{\\rho_{pq}\\}_{p.q \\in {0,...,d}}$ would have only 1 nonzero component. \n",
    "\n",
    "There are three measurement rounds for the Antiony quoct. This is because the Antimony noise spectroscopy has three unknown real noise polyspectra, the same as Qutrit example."
   ]
  },
  {
   "cell_type": "code",
   "execution_count": 8,
   "id": "bee20593",
   "metadata": {},
   "outputs": [],
   "source": [
    "m11vec = np.zeros([varsnum,4])\n",
    "\n",
    "# m11vec[m11,:] = [m, n, p, q] \n",
    "m11vec[0,:]  =    [1, 7, 0, 4]   \n",
    "m11vec[1,:]  =    [2, 1, 5, 1]\n",
    "m11vec[2,:]  =    [2, 6, 1, 0]"
   ]
  },
  {
   "cell_type": "markdown",
   "id": "0b9c6edb",
   "metadata": {},
   "source": [
    "## $\\lambda$ coefficient\n",
    "\n",
    "$^{mn}_{ab}\\lambda^{a'b'}_{\\tilde{a},\\tilde{b}}$ is defined, and all its values assigned to a tensor $LL0[m_{11}][\\tilde{a}][\\tilde{b}][a'][b'][\\tilde{a'}][\\tilde{b'}]$, where $m_{11}$ or m11vec$[m_{11},:]$ corresponds to a fixed chosen set of (m,n,p,q)."
   ]
  },
  {
   "cell_type": "code",
   "execution_count": 9,
   "id": "8d5170a0",
   "metadata": {},
   "outputs": [],
   "source": [
    "def Lmnpq(m11, a1,b1, ta,tb , ta1,tb1):\n",
    "\n",
    "    Omn = 1\n",
    "    return   d*Omn*   (1-xi**(  a1*m11vec[m11,1] -  b1*m11vec[m11,0] )) * \\\n",
    "                      (1-xi**( ta1*m11vec[m11,1] - tb1*m11vec[m11,0] )) * \\\n",
    "                      xi**( \\\n",
    " - ta1*b1  +  ta*tb  -  ta1*tb1 -  m11vec[m11,0]* m11vec[m11,3]  + (m11vec[m11,0]+m11vec[m11,2])*(m11vec[m11,1]+m11vec[m11,3]) ) \n",
    "                      \n",
    "                      \n",
    "\n",
    "a1 = b1 = ta = tb =  ta1 = tb1 =  np.arange(d)\n",
    "m11 = np.arange(3)\n",
    "M11, A1, B1, TA, TB,  TA1, TB1  = np.meshgrid(m11, a1,b1,  ta,tb,   ta1,tb1,  sparse=True, indexing='ij')\n",
    "LL0 = Lmnpq(M11,  A1, B1,  TA, TB,  TA1, TB1 )\n",
    "del m11, a1,b1,  ta,tb,   ta1,tb1, M11, A1, B1, TA, TB,  TA1, TB1"
   ]
  },
  {
   "cell_type": "code",
   "execution_count": 10,
   "id": "945b43d4",
   "metadata": {},
   "outputs": [],
   "source": [
    "def deltaA(m11,a1,ta1): \n",
    "    return  deltam(-m11vec[m11,0]-m11vec[m11,2],a1+ta1,d) \n",
    "\n",
    "a1 = ta1 =  np.arange(d)\n",
    "m11 = np.arange(3)\n",
    "M11, A1, TA1 = np.meshgrid(m11, a1, ta1, sparse=True, indexing='ij')\n",
    "deltaVecA = deltaA(M11, A1, TA1)\n",
    "del m11, a1, ta1, M11, A1, TA1"
   ]
  },
  {
   "cell_type": "code",
   "execution_count": 11,
   "id": "a59bf72a",
   "metadata": {},
   "outputs": [],
   "source": [
    "def deltaB(m11,b1,tb1): \n",
    "    return  deltam(-m11vec[m11,1]-m11vec[m11,3],b1+tb1,d) \n",
    "\n",
    "b1 = tb1 =  np.arange(d)\n",
    "m11 = np.arange(3)\n",
    "M11, B1, TB1 = np.meshgrid( m11, b1, tb1, sparse=True, indexing='ij')\n",
    "deltaVecB = deltaB(M11, B1, TB1)\n",
    "del  m11, b1, tb1, M11, B1, TB1"
   ]
  },
  {
   "cell_type": "code",
   "execution_count": 12,
   "id": "c574cb7a",
   "metadata": {},
   "outputs": [],
   "source": [
    "fvec1 =   fvec[:,:,:,:,:,:,0]\n",
    "fvec2 = np.empty_like(fvec1)\n",
    "for a in range(d):\n",
    "    for b in range(d):\n",
    "        for a1 in range(d):\n",
    "            for b1 in range(d):\n",
    "                for k in range(N):\n",
    "                    for r in range(N):\n",
    "                            fvec2[a][b][a1][b1][k][r] = np.conj(fvec[-a][-b][-a1][-b1][k][r][0])\n",
    "del a,b,a1,b1,k,r"
   ]
  },
  {
   "cell_type": "markdown",
   "id": "52204a34",
   "metadata": {},
   "source": [
    "## $\\Xi_{i,\\tilde{i}}(m,n,\\omega,t^A_r)$ function \n",
    "\n",
    "$\\Xi_{i,\\tilde{i}}(m,n,\\omega,t_r) = \n",
    "\\sum\\limits_{\\substack{a,b,\\tilde{a},\\tilde{b}\\\\a',b',\\tilde{a}',\\tilde{b}'\n",
    "\\in S}}\n",
    "\\sum\\limits_{\\substack{pqq'\\in S\\\\ \\tilde{p}\\tilde{q}\\tilde{q}'\\in S}}\n",
    "\\tilde{\\beta}^{pqq'}_{iab}\n",
    "\\tilde{\\beta}^{\\tilde{p}\\tilde{q}\\tilde{q}'}_{\\tilde{i}\\tilde{a}\\tilde{b}}\n",
    "(_{\\tilde{a}\\tilde{b}}^{mn}\\lambda^{\\tilde{a}'\\tilde{b}'}_{a'b'})\n",
    "F^{ab}_{a'b'}(\\omega,t_r)\n",
    "F^{*-\\tilde{a},-\\tilde{b}}_{-\\tilde{a}',-\\tilde{b}'}(\\omega,t_r)$\n",
    "\n",
    "The following Xi function, when vectorized, corresponds to XiVec found by einsum \n",
    "\n",
    "def Xi(i,ti,k,r,m11):  \n",
    "\n",
    "    result = np.sum(b1Vec[i][a][b] * fvec[a][b][a1][b1][k][r][0] *\n",
    "                    b1Vec[ti][ta][tb] * np.conj(np.conj(fvec[-ta][-tb][-ta1][-tb1][k][r][0])) *\n",
    "                    LL0[m11][a1][b1][ta][tb][ta1][tb1] *\n",
    "                    deltaVecB[m11][b1][tb1] * deltaVecA[m11][a1][ta1] *  \\        \n",
    "            for a  in range(d)   for b  in range(d)  for a1  in range(d)   for b1  in range(d)   \\\n",
    "            for ta in range(d)   for tb in range(d)  for ta1 in range(d)   for tb1 in range(d)  )\n",
    "\n",
    "#### Variables' indices in einsum\n",
    "\n",
    "(i,ti,   k,      m11,   r,      pm   ,       a,b,    a1,b1,   ta,tb,    ta1,tb1) => (a,b,    c,      e,     f,      g    ,       h,i,    j,k,     l,m,      n,o) \n"
   ]
  },
  {
   "cell_type": "code",
   "execution_count": 16,
   "id": "1c2d00f0",
   "metadata": {},
   "outputs": [
    {
     "name": "stdout",
     "output_type": "stream",
     "text": [
      "17.446767274538676 minutes or 0.2907794545756446 hours\n",
      "(1.7853684305127335-2.5530652719375238j)\n"
     ]
    }
   ],
   "source": [
    "startime = time.time()\n",
    "########################### start timing\n",
    "\n",
    "XiVec = np.einsum(' ahi,   hijkcf, blm,   lmnocf, ejklmno, eko,       ejn      -> abcfe', \\\n",
    "                    b1Vec, fvec1,  b1Vec, fvec2,  LL0,     deltaVecB, deltaVecA)\n",
    "\n",
    "########################### end timing\n",
    "endtime = time.time()\n",
    "minutes = ( endtime - startime ) /60\n",
    "hours   = ( endtime - startime ) /3600\n",
    "print(minutes,\"minutes or\", hours, \"hours\")\n",
    "############################"
   ]
  },
  {
   "cell_type": "code",
   "execution_count": 17,
   "id": "e835e874",
   "metadata": {},
   "outputs": [],
   "source": [
    "def C(m11, k, r, i):  \n",
    "    if   i == 0 :   return       XiVec[0][0][k][r][m11]\n",
    "    elif i == 1 :   return       XiVec[1][1][k][r][m11]    \n",
    "    elif i == 2 :   return       XiVec[0][1][k][r][m11] + XiVec[1][0][k][r][m11] "
   ]
  },
  {
   "cell_type": "markdown",
   "id": "8a9c2c43",
   "metadata": {},
   "source": [
    "## Coefficient matrix of QNS"
   ]
  },
  {
   "cell_type": "code",
   "execution_count": 21,
   "id": "8ff65d91",
   "metadata": {},
   "outputs": [],
   "source": [
    "P = lambda s,smax : int(s/smax)         \n",
    "Q = lambda s,smax : np.remainder(s,smax) \n",
    "\n",
    "AMat = np.zeros([varsnum*N,varsnum*N], dtype=complex)      \n",
    "\n",
    "for n in range(varsnum*N):    # n->r                \n",
    "    for m in range(varsnum*N):   # m->k\n",
    "        if      delta( (P(m,varsnum) + 1) / (Q(n,N) + 1) , np.floor( (P(m,varsnum) + 1) / (Q(n,N) + 1) ) )   == 1    : \n",
    "                AMat[n][m] =  M * wr( Q(n,N) + 1 ) *   \\\n",
    "                                                C(   P(n,N) , P(m,varsnum),   Q(n,N), Q(m,varsnum) ) \n",
    "del n,m, P,Q"
   ]
  },
  {
   "cell_type": "markdown",
   "id": "5949bc0a",
   "metadata": {},
   "source": [
    "## Pseudo experimental data"
   ]
  },
  {
   "cell_type": "markdown",
   "id": "b18a5105",
   "metadata": {},
   "source": [
    "We use the following Poissonian form for the true noise spectra. This choice simplifies the calculations of the exact expectation values, that are supposed to be approximately found by experimental measurements."
   ]
  },
  {
   "cell_type": "code",
   "execution_count": 31,
   "id": "dbf73729",
   "metadata": {},
   "outputs": [],
   "source": [
    "def spectA0(w):\n",
    "    return  w**2*np.exp(-0.2*w)\n",
    "def spectA1(w):\n",
    "    return  w**2*np.exp(-0.22*w)\n",
    "def spectA2(w):\n",
    "    return  w**2*np.exp(-0.25*w)\n",
    "\n",
    "grange = 3\n",
    "gvec = np.array([0.2,  0.22,  0.25]) # coefficients in Poissonian functions \n",
    "\n",
    "spect0  = []\n",
    "spect1  = []\n",
    "spect2  = []\n",
    "w1 = wr(1)*np.arange(1, N+0.05, 0.05)\n",
    "for i in range(len(w1)):\n",
    "    spect0.append(spectA0(w1[i]))\n",
    "    spect1.append(spectA1(w1[i]))\n",
    "    spect2.append(spectA2(w1[i]))"
   ]
  },
  {
   "cell_type": "code",
   "execution_count": 33,
   "id": "0b11e850",
   "metadata": {},
   "outputs": [
    {
     "name": "stdout",
     "output_type": "stream",
     "text": [
      "49.79748202164968 minutes or 0.8299580336941613 hours\n"
     ]
    }
   ],
   "source": [
    "def phi(h,r):\n",
    "    return h/(r+1) * T/d \n",
    "\n",
    "def Phii(h1,h2,n1,n2,r,gi,j):  \n",
    "    g = gvec[gi]  \n",
    "    if   j == 0 : return   - g   +  (1j)*d* ( phi(n1-n2,r) )  +  (1j)*( phi(h1+1,r)-phi(h2+1,r) )\n",
    "    elif j == 1 : return   - g   +  (1j)*d* ( phi(n1-n2,r) )  +  (1j)*( phi(h1+1,r)-phi(h2  ,r) )\n",
    "    elif j == 2 : return   - g   +  (1j)*d* ( phi(n1-n2,r) )  +  (1j)*( phi(h1  ,r)-phi(h2+1,r) )\n",
    "    elif j == 3 : return   - g   +  (1j)*d* ( phi(n1-n2,r) )  +  (1j)*( phi(h1  ,r)-phi(h2  ,r) )\n",
    "\n",
    "\n",
    "def Lancila(h1,h2,r,gi): \n",
    "    \n",
    "    def fj(q):\n",
    "        if   q == 0 or q==3:  return 0\n",
    "        elif q == 1 or q==2:  return 1\n",
    "    \n",
    "    initial = (1-delta(r,0))*wr(1) + delta(r,0) * 0.0001\n",
    "\n",
    "    return    sum( (-1)**(fj(j))  *  1/ Phii(h1,h2,n1,n2,r,gi,j) *\\\n",
    "            ( np.exp(Phii(h1,h2,n1,n2,r,gi,j)* W) - np.exp(Phii(h1,h2,n1,n2,r,gi,j)* initial) )                                                                                                                                            \n",
    "                  for j in range(4)  for n1 in range(M) for n2 in range(M) )\n",
    "\n",
    "    \n",
    "    \n",
    "h1 = h2 =  np.arange(d)\n",
    "r = np.arange(N)\n",
    "gi = np.arange(3)\n",
    "H1, H2, R, GI = np.meshgrid(h1, h2, r, gi, sparse=True, indexing='ij')\n",
    "\n",
    "startime = time.time()\n",
    "########################### start timing\n",
    "LancilaVec = Lancila(H1, H2, R, GI)    \n",
    "########################### end timing\n",
    "endtime = time.time()\n",
    "minutes = ( endtime - startime ) /60\n",
    "hours   = ( endtime - startime ) /3600\n",
    "print(minutes,\"minutes or\", hours, \"hours\")\n",
    "############################"
   ]
  },
  {
   "cell_type": "code",
   "execution_count": 23,
   "id": "3e9f4ce2",
   "metadata": {},
   "outputs": [],
   "source": [
    "yvec1 = np.zeros([d,d,d,d,d],dtype = complex)  # these has one dimensional less than yvec                                               \n",
    "yvec2 = np.zeros([d,d,d,d,d],dtype = complex) \n",
    "\n",
    "for  h in range(d):\n",
    "        for a in range(d):\n",
    "            for b in range(d):\n",
    "                for a1 in range(d):\n",
    "                    for b1 in range(d):\n",
    "                        \n",
    "                        yvec1[h][a][b][a1][b1] =         yvec[IJ[fd(h)],IJ[fd(h+1)]][a][b][a1][b1]\n",
    "                      # corresponding indices in einsum:\n",
    "                      # yvec1[h1][a][b][a1][b1] = yvec[IJ[fd(h1)],IJ[fd(h1+1)]][a][b][a1][b1]  \n",
    "                      \n",
    "                        yvec2[h][a][b][a1][b1] = np.conj(yvec[IJ[fd(h)],IJ[fd(h+1)]][-a][-b][-a1][-b1])\n",
    "                      # corresponding indices in einsum:\n",
    "                      # yvec2[h2][ta][tb][ta1][tb1] = np.conj(yvec[IJ[fd(h2)],IJ[fd(h2+1)]][-ta][-tb][-ta1][-tb1])\n",
    "                                          \n",
    "del h,a,b,a1,b1"
   ]
  },
  {
   "cell_type": "markdown",
   "id": "f619b099",
   "metadata": {},
   "source": [
    "## $\\Xi_{i,\\tilde{i}}(m,n,\\omega,t^B_r)$ function for pseudo experimental values\n",
    "\n",
    "The following XiAI function, when vectorized, corresponds to XiAIVec found by einsum\n",
    "\n",
    "def XiAI(i,ti,r,m11,gi):  \n",
    "\n",
    "     result = np.sum(b1Vec[i][a][b] * yvec[IJ[fd(h1)]][IJ[fd(h1+1)]][a][b][a1][b1] *\n",
    "                     b1Vec[ti][ta][tb] * np.conj(yvec[IJ[fd(h2)]][IJ[fd(h2+1)]][-ta][-tb][-ta1][-tb1]) *\n",
    "                     LL0[m11][a1][b1][ta][tb][ta1][tb1] *\n",
    "                     deltaVecB[m11][b1][tb1] * deltaVecA[m11][a1][ta1] *  \\\n",
    "                     LancilaVec[h1][h2][r][gi]\n",
    "             for h1 in range(d)   for h2 in range(d)\n",
    "             for a  in range(d)   for b  in range(d)  for a1  in range(d)   for b1  in range(d)   \\\n",
    "             for ta in range(d)   for tb in range(d)  for ta1 in range(d)   for tb1 in range(d)  )\n",
    "\n",
    "#### Variables' indices in einsum\n",
    "(i,ti,   h1,h2,   m11,   r,     gi ,      a,b,    a1,b1,   ta,tb,    ta1,tb1) => (a,b,    c,d,     e,     f,     g  ,      h,i,    j,k,     l,m,      n,o)"
   ]
  },
  {
   "cell_type": "code",
   "execution_count": 25,
   "id": "5ed0b5b0",
   "metadata": {},
   "outputs": [
    {
     "name": "stdout",
     "output_type": "stream",
     "text": [
      "530.4275701522827 minutes or 8.840459502538046 hours\n",
      "(-368398.5934605172+11889.033672558427j)\n"
     ]
    }
   ],
   "source": [
    "startime = time.time()\n",
    "########################### start timing\n",
    "\n",
    "XiAIVec = np.einsum('ahi,   chijk, blm,   dlmno, ejklmno, eko,       ejn,       cdfg       -> abfeg', \\\n",
    "                     b1Vec, yvec1, b1Vec, yvec2, LL0,     deltaVecB, deltaVecA, LancilaVec)\n",
    "\n",
    "########################### end timing\n",
    "endtime = time.time()\n",
    "minutes = ( endtime - startime ) /60\n",
    "hours   = ( endtime - startime ) /3600\n",
    "print(minutes,\"minutes or\", hours, \"hours\")\n",
    "############################"
   ]
  },
  {
   "cell_type": "code",
   "execution_count": 27,
   "id": "064db0b3",
   "metadata": {},
   "outputs": [],
   "source": [
    "def CI(m11, r, gi):   \n",
    "    if   gi == 0:   return       XiAIVec[0][0][r][m11][0]\n",
    "    elif gi == 1:   return       XiAIVec[1][1][r][m11][1]\n",
    "    elif gi == 2:   return       XiAIVec[0][1][r][m11][2] + XiAIVec[1][0][r][m11][2]\n",
    "\n",
    "grange = 3\n",
    "def bPn(m11, r):\n",
    "    return    sum( CI(m11, r, gi) for gi in range(grange) )"
   ]
  },
  {
   "cell_type": "code",
   "execution_count": 28,
   "id": "6ffa4b08",
   "metadata": {},
   "outputs": [],
   "source": [
    "bPnVec = np.zeros([varsnum*N], dtype=complex) \n",
    "P = lambda s,smax : int(s/smax)         \n",
    "Q = lambda s,smax : np.remainder(s,smax)\n",
    "\n",
    "for n in range(varsnum*N):  \n",
    "    m11 = P(n,N)\n",
    "    r1  = int(Q(n,N)) \n",
    "    bPnVec[n] = bPn(m11,r1) \n",
    "\n",
    "del n,m11,r1, P,Q"
   ]
  },
  {
   "cell_type": "markdown",
   "id": "ee2812d2",
   "metadata": {},
   "source": [
    "## Linear matrix equation"
   ]
  },
  {
   "cell_type": "code",
   "execution_count": 29,
   "id": "3dd45b6e",
   "metadata": {},
   "outputs": [],
   "source": [
    "xPn = np.linalg.lstsq(AMat,bPnVec,rcond=None)\n",
    "resultPn = np.real(xPn[0])"
   ]
  },
  {
   "cell_type": "code",
   "execution_count": 32,
   "id": "c1608f81",
   "metadata": {},
   "outputs": [
    {
     "data": {
      "image/png": "[encoded data removed]",
      "text/plain": [
       "<Figure size 640x480 with 1 Axes>"
      ]
     },
     "metadata": {},
     "output_type": "display_data"
    }
   ],
   "source": [
    "%matplotlib inline\n",
    "import matplotlib.pyplot as plt\n",
    "plt.style.use('ggplot')\n",
    "\n",
    "\n",
    "R0 =  []\n",
    "R0p = []\n",
    "R1 =  []\n",
    "for n in range(0, varsnum*N,varsnum):\n",
    "    R0.append(resultPn[n+0])\n",
    "    R0p.append(resultPn[n+1])\n",
    "    R1.append(resultPn[n+2])\n",
    "    \n",
    "\n",
    "omega = []\n",
    "for n in range(1,N+1):\n",
    "    omega.append(n*wr(1))\n",
    "   \n",
    "       \n",
    "plt.plot( w1, spect0,'b-',omega, R0 ,'b^',\\\n",
    "          w1, spect1, 'k-',omega, R0p ,'ks', \\\n",
    "          w1, spect2, 'g-', omega, R1 ,'go') \n",
    "plt.xlabel('$\\omega( x\\omega_0)$[rad/[T]]', fontsize=14)\n",
    "plt.xticks(np.arange(0, (N+1)*wr(1), step=T*wr(1)),np.arange(0,N+1,step=T))\n",
    "plt.ylabel('Noise spectra [S])', fontsize=14)\n",
    "plt.legend(['True $R_0(\\omega)$',       'Estimated $R_0(\\omega)$',\\\n",
    "            'True $R_0^\\prime(\\omega)$','Estimated $R_0^\\prime(\\omega)$',  \\\n",
    "            'True $R_1(\\omega)$',       'Estimated $R_1(\\omega)$'],  \n",
    "          prop={'size': 10.5})\n",
    "\n",
    "\n",
    "\n",
    "plt.savefig('Fig5M800.pdf')\n",
    "plt.show()"
   ]
  }
 ],
 "metadata": {
  "kernelspec": {
   "display_name": "Python 3 (ipykernel)",
   "language": "python",
   "name": "python3"
  },
  "language_info": {
   "codemirror_mode": {
    "name": "ipython",
    "version": 3
   },
   "file_extension": ".py",
   "mimetype": "text/x-python",
   "name": "python",
   "nbconvert_exporter": "python",
   "pygments_lexer": "ipython3",
   "version": "3.11.5"
  }
 },
 "nbformat": 4,
 "nbformat_minor": 5
}
